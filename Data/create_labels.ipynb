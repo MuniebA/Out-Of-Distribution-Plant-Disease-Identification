{
 "cells": [
  {
   "cell_type": "code",
   "execution_count": 1,
   "metadata": {},
   "outputs": [
    {
     "name": "stdout",
     "output_type": "stream",
     "text": [
      "CSV files created successfully.\n"
     ]
    }
   ],
   "source": [
    "import pandas as pd\n",
    "\n",
    "# Load the original CSV file\n",
    "df = pd.read_csv(\"PV test seen.csv\", header=None)\n",
    "\n",
    "# Create the first CSV file with the second column as the Label\n",
    "df1 = df[[0, 1]].copy()\n",
    "df1.columns = ['file_path', 'Label']\n",
    "df1.to_csv(\"crop_test.csv\", index=False)\n",
    "\n",
    "# Create the second CSV file with the third column as the Label\n",
    "df2 = df[[0, 2]].copy()\n",
    "df2.columns = ['file_path', 'Label']\n",
    "df2.to_csv(\"disease_test.csv\", index=False)\n",
    "\n",
    "print(\"CSV files created successfully.\")\n"
   ]
  }
 ],
 "metadata": {
  "kernelspec": {
   "display_name": "Python 3",
   "language": "python",
   "name": "python3"
  },
  "language_info": {
   "codemirror_mode": {
    "name": "ipython",
    "version": 3
   },
   "file_extension": ".py",
   "mimetype": "text/x-python",
   "name": "python",
   "nbconvert_exporter": "python",
   "pygments_lexer": "ipython3",
   "version": "3.12.6"
  }
 },
 "nbformat": 4,
 "nbformat_minor": 2
}
